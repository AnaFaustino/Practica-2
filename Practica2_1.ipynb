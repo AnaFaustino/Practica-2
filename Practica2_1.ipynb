{
  "nbformat": 4,
  "nbformat_minor": 0,
  "metadata": {
    "colab": {
      "provenance": [],
      "include_colab_link": true
    },
    "kernelspec": {
      "name": "python3",
      "display_name": "Python 3"
    },
    "language_info": {
      "name": "python"
    }
  },
  "cells": [
    {
      "cell_type": "markdown",
      "metadata": {
        "id": "view-in-github",
        "colab_type": "text"
      },
      "source": [
        "<a href=\"https://colab.research.google.com/github/AnaFaustino/Practica-2/blob/main/Practica2_1.ipynb\" target=\"_parent\"><img src=\"https://colab.research.google.com/assets/colab-badge.svg\" alt=\"Open In Colab\"/></a>"
      ]
    },
    {
      "cell_type": "code",
      "execution_count": null,
      "metadata": {
        "colab": {
          "base_uri": "https://localhost:8080/"
        },
        "id": "1hI0vYmhJBHo",
        "outputId": "98519182-34a8-4133-e5d2-053e98927e48"
      },
      "outputs": [
        {
          "output_type": "stream",
          "name": "stdout",
          "text": [
            "Tiempo de espera de los pacientes: 899411.8293155199\n",
            "Tiempo en los sistemas: 35.9964\n",
            "Informe de estadisticas\n",
            "Tiempo promedio espera de pacientes de urgencias 899545.6824304457\n",
            "Tiempo promedio espera de pacientes de rutinarios 36.0368\n"
          ]
        }
      ],
      "source": [
        "# ALUMNA: Ana Cristina Torres Faustino. ALUMNA: Eunice Jadiel Corro Rivera\n",
        "\n",
        "import random # Funciones para generar números aleatorios\n",
        "class Persona:\n",
        "    def __init__(self, tiempo_llegada):\n",
        "        self.tiempo_llegada = tiempo_llegada\n",
        "        self.tipo_paciente = self.generar_tipo_paciente()\n",
        "\n",
        "    def generar_tipo_paciente(self):\n",
        "      probabilidad = 0.2\n",
        "      if random.random()<probabilidad:\n",
        "        return \"Urgencia\"\n",
        "      else:\n",
        "        return \"Rutinario\"\n",
        "\n",
        "\n",
        "class Cola:\n",
        "    def __init__(self):\n",
        "        self.persona = []\n",
        "\n",
        "    def agregar_persona(self, persona):\n",
        "        self.persona.append(persona)\n",
        "\n",
        "    def atender_persona(self):\n",
        "        if len(self.persona) > 0:\n",
        "            return self.persona.pop(0)\n",
        "        else:\n",
        "            return None\n",
        "\n",
        "class Simulacion:\n",
        "    def __init__(self):\n",
        "        self.cola = Cola()\n",
        "        self.tiempo_atencion = 20 #aqui podemos cambiar el tiempo en el que se atiende al paciente\n",
        "\n",
        "        self.tiempo_actual = 0 #Inicialización\n",
        "        self.tiempo_espera_urgencias = []\n",
        "        self.tiempo_espera_rutunario = []\n",
        "        self.tiempo_espera = []\n",
        "\n",
        "\n",
        "    def simular(self,numero_de_personas):\n",
        "        for _ in range(numero_de_personas):\n",
        "          tiempo_llegada = random.uniform(0.5, 50) #Promedio de minutos de espera\n",
        "\n",
        "          persona = Persona(tiempo_llegada)\n",
        "          self.cola.agregar_persona(persona)\n",
        "\n",
        "        while len(self.cola.persona)>0:\n",
        "          persona = self.cola.atender_persona()\n",
        "          tiempo_espera = self.tiempo_actual-persona.tiempo_llegada\n",
        "          if persona.tipo_paciente == \"Urgencia\":\n",
        "            self.tiempo_espera_urgencias.append(tiempo_espera)\n",
        "\n",
        "          else :\n",
        "            self.tiempo_espera_rutunario.append(tiempo_espera)\n",
        "            self.tiempo_actual += self.tiempo_atencion\n",
        "            promedio_espera_urgencias = sum(self.tiempo_espera_urgencias)/len(self.tiempo_espera_urgencias)if self.tiempo_espera_urgencias else 0\n",
        "            promedio_espera_rutinario = sum(self.tiempo_espera_rutunario)/len(self.tiempo_espera_rutunario)\n",
        "            promedio_sistema = self.tiempo_actual / numero_de_personas\n",
        "\n",
        "          self.tiempo_espera.append(tiempo_espera)\n",
        "          self.tiempo_actual += self.tiempo_atencion\n",
        "          tiempo_promedio_espera = sum(self.tiempo_espera)/len(self.tiempo_espera)\n",
        "          tiempo_promedio_sistema = self.tiempo_actual/numero_de_personas\n",
        "        return tiempo_promedio_espera, tiempo_promedio_sistema\n",
        "        return promedio_espera_urgencias,promedio_espera_rutinario,promedio_sistema\n",
        "\n",
        "\n",
        "simulacion = Simulacion()\n",
        "tiempo_promedio_espera, tiempo_promedio_sistema = simulacion.simular(50000)\n",
        "print(\"Tiempo de espera de los pacientes:\", tiempo_promedio_espera)\n",
        "print(\"Tiempo en los sistemas:\", tiempo_promedio_sistema)\n",
        "\n",
        "simulacion = Simulacion()\n",
        "promedio_espera_urgencias,promedio_espera_rutinario = simulacion.simular(50000)\n",
        "print(\"Informe de estadisticas\")\n",
        "print(\"Tiempo promedio espera de pacientes de urgencias\", promedio_espera_urgencias)\n",
        "print(\"Tiempo promedio espera de pacientes de rutinarios\", promedio_espera_rutinario)\n",
        "\n",
        "\n"
      ]
    }
  ]
}